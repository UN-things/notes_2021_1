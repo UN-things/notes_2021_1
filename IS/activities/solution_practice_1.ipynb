{
 "cells": [
  {
   "cell_type": "markdown",
   "metadata": {
    "id": "laznLMiyBXLU"
   },
   "source": [
    "# Taller 1\n",
    "## [Introducción a los Sistemas Inteligentes 2021-1](https://fagonzalezo.github.io/iis-2021-1/)\n",
    "\n",
    "--------------------\n",
    "\n",
    "# Tallbots y Smallbots\n",
    "\n",
    "Aima y Arya son mejores amigas, pero no solo son amigas. Son ingenieras de software y expertas en inteligencia artifical de la Unión Nacional de Algoritmos de Localización (UNAL). En su tiempo libre a Aima le gusta retar a Arya con distintos problemas y puzzles. \n",
    "\n",
    "Esta vez Aima decidio usar el problema de los Tallbots y Smallbots. Hay 2 Tallbots y 2 Smallbots, los bots quieren cruzar un rio y deben hacerlo en un bote, ya que si tocan el agua se dañarián. \n",
    "\n",
    "Pero hay un problema: El bote que tienen es muy pequeño para llevarlos a todos y solo pueden estar al mismo tiempo como máximo 1 Tallbot ó 2 Smallbots, por ejemplo si hubiera 2 Tallbots o 2 Smallbots y 1 Tallbot el bote se hundiría y los bots estarían tristes. Formalmente, el bote tiene capacidad de carga 2, los Smallbots tienen peso 1 y los Tallbots tienen peso 2. El bote no se puede mover si no lleva ningún bot. \n",
    "\n",
    "Sin embargo, Arya habiendo resuelto muchos problemas similares lo solucionó en menos de 1 minuto! Aima decidió darle una versión más díficil del problema a Arya: Dada una configuración inicial y final de bots Arya tiene que decirle a Aima la cantidad de pasos más pequeña y la correspondiente secuencia de pasos para llegar del estado inicial al estado final. En esta versión del problema puede haber una cantidad arbitraria de Tallbots y de Smallbots al igual que la capacidad del bote puede variar. Puede asumir que los movimientos de los bots son instantaneos, es decir, solo se cuenta como un paso de tiempo el movimiento de un lado a otro.\n",
    "\n",
    "Arya esta completamente segura que puede escribir un programa que resuelva el problema general en menos de 10 minutos pero esta ocupada trabajando en un proyecto que le asigno el presidente de la UNAL. ¿Puedes ayudar a Arya a resolver este problema?"
   ]
  },
  {
   "cell_type": "markdown",
   "metadata": {
    "id": "f5Je2WecAwL0"
   },
   "source": [
    "## 1. Defina una clase que represente el problema generalizado de Smallbots y Tallbots\n",
    "\n",
    "Un estado del problema se puede representar usando una tupla de 3 posiciones donde el primer elemento representa el número de Tallbots al lado izquierdo, el segundo el númeor de Smallbots en el lado izquierdo y el último elemento de que lado se encuentra el bote. Por ejemplo, asumiendo que hay 2 Tallbots y 2 Smallbots, el siguiente vector:\n",
    "\n",
    "```python\n",
    "(1, 2, 0)\n",
    "```\n",
    "\n",
    "Representaria un estado en donde hay 1 Tallbot, 2 Smallbots y el bote en el lado izquierdo y un Tallbot en el lado derecho.\n",
    "\n",
    "\n",
    "Su programa sera evaluado en distintos casos de prueba y debe soportar el siguiente formato de entrada y salida. (No cambiar nombre ni firma de los metodos)\n",
    "\n",
    "**Entrada:**\n",
    "\n",
    "**init** debe aceptar 4 parametros. **initial** y **goal** tuplas representando el estado inicial y final, **n** y **m** representando el número total de Tallbots y Smallbots correspondientemente y **c** la capacidad del bote. Todos los valores son números enteros.\n",
    "\n",
    "Para cada estado **(tb, sb, l)**. **tb** es el número de Tallbots en el lado izquierdo, **sb** el número de Smallbots en el lado izquierdo y **l** el lado en que se encuentra el bote en el estado correspondiente, 0 significa que esta en la izquierda y 1 en la derecha.\n",
    "\n",
    "Está garantizado que los valores cumplen con la siguientes condiciones:\n",
    "\n",
    "**1 <= n + m <= 15**\n",
    "\n",
    "**2 <= c <= 20**\n",
    "\n",
    "**0 <= tb, sb <= n**\n",
    "\n",
    "**0 <= li, lf <= 1**\n",
    "\n",
    "**Salida**\n",
    "\n",
    "La función `action` debe retornar todas las posibles acciones para un estado dado en una lista de tuplas. No importa el orden de la lista. El primer elemento de cada tupla representa cuantos Tallbots se van a mover y el segundo elemento cuantos Smallbots se van a mover.\n",
    "\n",
    "La función `result` debe retornar el estado resultante de una acción sobre un estado. \n",
    "\n",
    "```python\n",
    "p = TBSBProblem((1, 2, 0), (0, 0, 1), 1, 2, 2)\n",
    "print(p.actions(p.initial))\n",
    ">> [(0, 1), (0, 2), (1, 0)]\n",
    "print(p.result(p.initial, (0, 2))\n",
    ">> (1, 0, 1)\n",
    "```\n",
    "\n",
    "--------------------------------\n",
    "\n",
    "\n",
    "```python\n",
    "p = TBSBProblem((1, 2, 1), (0, 0, 1), 1, 2, 2)\n",
    "print(p.actions(p.initial))\n",
    ">> []\n",
    "```\n",
    "\n",
    "--------------------------------\n",
    "\n",
    "```python\n",
    "p = TBSBProblem((1, 2, 0), (0, 0, 1), 1, 2, 6)\n",
    "print(p.actions(p.initial))\n",
    ">> [(0, 1), (0, 2), (1, 0), (1, 1), (1, 2)]\n",
    "print(p.result(p.initial, (1, 2))\n",
    ">> (0, 0, 1)\n",
    "print(p.is_goal(p.result(p.initial, (1, 2))))\n",
    ">> True\n",
    "```"
   ]
  },
  {
   "cell_type": "code",
   "execution_count": 1,
   "metadata": {},
   "outputs": [],
   "source": [
    "%matplotlib inline\n",
    "import matplotlib.pyplot as plt\n",
    "import random\n",
    "import heapq\n",
    "import math\n",
    "import sys\n",
    "from collections import defaultdict, deque, Counter\n",
    "from itertools import combinations, permutations"
   ]
  },
  {
   "cell_type": "code",
   "execution_count": 2,
   "metadata": {
    "id": "fs_eMwNS_HQc"
   },
   "outputs": [],
   "source": [
    "class Problem(object):\n",
    "    \"\"\"The abstract class for a formal problem. A new domain subclasses this,\n",
    "    overriding `actions` and `results`, and perhaps other methods.\n",
    "    The default heuristic is 0 and the default action cost is 1 for all states.\n",
    "    When yiou create an instance of a subclass, specify `initial`, and `goal` states \n",
    "    (or give an `is_goal` method) and perhaps other keyword args for the subclass.\"\"\"\n",
    "\n",
    "    def __init__(self, initial=None, goal=None, **kwds): \n",
    "        self.__dict__.update(initial=initial, goal=goal, **kwds) \n",
    "        \n",
    "    def actions(self, state):        raise NotImplementedError\n",
    "    def result(self, state, action): raise NotImplementedError\n",
    "    def is_goal(self, state):        return state == self.goal\n",
    "    def action_cost(self, s, a, s1): return 1\n",
    "    def h(self, node):               return 0\n",
    "    \n",
    "    def __str__(self):\n",
    "        return '{}({!r}, {!r})'.format(\n",
    "            type(self).__name__, self.initial, self.goal)\n",
    "        \n",
    "class TBSBProblem(Problem):\n",
    "\n",
    "    def __init__(self, initial=None, goal=None, n=0, m=0, c = 2):\n",
    "        '''\n",
    "        initial: tupla representando el estado inicial de la forma (tb, sb, side). \n",
    "                tb es el número de Tallbots en el lado izquierdo, sb el número \n",
    "                de Smallbots en el lado izquierdo y side el lado en que se encuentra \n",
    "                el bote en el estado correspondiente, 0 significa que esta en \n",
    "                la izquierda y 1 en la derecha.\n",
    "        goal: tupla representando el estado objetivo, con la misma convención de\n",
    "        initial.\n",
    "        n: número total de Tallbots\n",
    "        m: número total de Smallbots\n",
    "        c: capacidad del bote\n",
    "        '''\n",
    "        tb, sb, l = initial\n",
    "        t, s, lg = goal\n",
    "        \n",
    "        if((n+m < 1) or (n+m > 16)): raise Exception(\"Error\")\n",
    "        if((c < 2) or (c > 20)): raise Exception(\"Error\")\n",
    "        if((tb < 0) or (tb > n)): raise Exception(\"Error\")\n",
    "        if((sb < 0) or (sb > m)): raise Exception(\"Error\")\n",
    "        if(not (l in [0,1])): raise Exception(\"Error\")\n",
    "        if(not (lg in [0,1])): raise Exception(\"Error\")\n",
    "        \n",
    "        self.initial = initial\n",
    "        self.goal = goal\n",
    "        self.n = n\n",
    "        self.m = m\n",
    "        self.c = c\n",
    "\n",
    "    def actions(self, state):\n",
    "        '''\n",
    "        state: Tupla reperesentando un estado de la forma (tb, sb, side)\n",
    "\n",
    "        Returns: [] Lista de tuplas representado las acciones posibles en el estado state,\n",
    "        cada tupla con la forma (tb, sb) donde tb es el número de Tallbots que se van a mover\n",
    "        y sb el número de Smallbots que se van a mover.\n",
    "        '''\n",
    "        t, s, x = state\n",
    "        tr, sr = self.n - t, self.m - s # Right\n",
    "        if(x == 1):\n",
    "            t, s = tr, sr # Right    \n",
    "            \n",
    "        if(cmp(self.initial, state) and (x==1) and (tr == 0 and sr == 0)):\n",
    "            return []\n",
    "        c = self.c\n",
    "        per =[(i,j) for i in range(t+1) for j in range(s+1)]\n",
    "                \n",
    "        return [(a, b) for (a, b) in per if ((a*2 + b <= c) & (not cmp((a,b),(0,0))))]\n",
    "\n",
    "\n",
    "    def result(self, state, action):\n",
    "        '''\n",
    "        state: Tupla reperesentando un estado de la forma (tb, sb, side)\n",
    "        action: Acción representada de la forma (tb, sb)\n",
    "\n",
    "        Returns: Tupla representando el estado resultante al realizar la acción en el estado state.\n",
    "        '''\n",
    "        result = list()\n",
    "        t, s, x = state\n",
    "        tr, sr = self.n - t, self.m - s # Right\n",
    "        if(cmp(self.initial, state) and (x==1) and (tr == 0 and sr == 0)):\n",
    "            return []\n",
    "        a, b = action\n",
    "        \n",
    "        if(x == 0):\n",
    "            return (t-a, s-b, x^1)\n",
    "        else:\n",
    "            return (t+a, s+b, x^1)\n",
    "    \n",
    "    def is_goal(self, state):\n",
    "        return cmp(self.goal, state)"
   ]
  },
  {
   "cell_type": "code",
   "execution_count": 3,
   "metadata": {},
   "outputs": [],
   "source": [
    "class Node:\n",
    "    \"A Node in a search tree.\"\n",
    "    def __init__(self, state, parent=None, action=None, path_cost=0):\n",
    "        self.__dict__.update(state=state, parent=parent, action=action, path_cost=path_cost)\n",
    "\n",
    "    # __lt__ == <, \n",
    "    def __repr__(self): return '<{}>'.format(self.state)\n",
    "    def __len__(self): return 0 if self.parent is None else (1 + len(self.parent))\n",
    "    def __lt__(self, other): return self.path_cost < other.path_cost\n",
    "\n",
    "    \n",
    "failure = Node('failure', path_cost=math.inf) # Indicates an algorithm couldn't find a solution.\n",
    "cutoff  = Node('cutoff',  path_cost=math.inf) # Indicates iterative deepening search was cut off.\n",
    "    \n",
    "    \n",
    "def expand(problem, node):\n",
    "    \"Expand a node, generating the children nodes.\"\n",
    "    s = node.state\n",
    "    for action in problem.actions(s):\n",
    "        s1 = problem.result(s, action)\n",
    "        cost = node.path_cost + problem.action_cost(s, action, s1)\n",
    "        yield Node(s1, node, action, cost)\n",
    "        \n",
    "def path_actions(node):\n",
    "    \"The sequence of actions to get to this node.\"\n",
    "    if node.parent is None:\n",
    "        return []  \n",
    "    return path_actions(node.parent) + [node.action]\n",
    "\n",
    "\n",
    "def path_states(node):\n",
    "    \"The sequence of states to get to this node.\"\n",
    "    if node in (cutoff, failure, None): \n",
    "        return []\n",
    "    return path_states(node.parent) + [node.state]"
   ]
  },
  {
   "cell_type": "code",
   "execution_count": 4,
   "metadata": {},
   "outputs": [],
   "source": [
    "FIFOQueue = deque\n",
    "\n",
    "LIFOQueue = list\n",
    "\n",
    "class PriorityQueue:\n",
    "    \"\"\"A queue in which the item with minimum f(item) is always popped first.\"\"\"\n",
    "\n",
    "    def __init__(self, items=(), key=lambda x: x): \n",
    "        self.key = key\n",
    "        self.items = [] # a heap of (score, item) pairs\n",
    "        for item in items:\n",
    "            self.add(item)\n",
    "         \n",
    "    def add(self, item):\n",
    "        \"\"\"Add item to the queuez.\"\"\"\n",
    "        pair = (self.key(item), item)\n",
    "        heapq.heappush(self.items, pair)\n",
    "\n",
    "    def pop(self):\n",
    "        \"\"\"Pop and return the item with min f(item) value.\"\"\"\n",
    "        return heapq.heappop(self.items)[1]\n",
    "    \n",
    "    def top(self): return self.items[0][1]\n",
    "\n",
    "    def __len__(self): return len(self.items)"
   ]
  },
  {
   "cell_type": "code",
   "execution_count": 5,
   "metadata": {},
   "outputs": [],
   "source": [
    "def cmp(tp1, tp2):\n",
    "    a = min(len(tp1), len(tp2))\n",
    "    count = 0\n",
    "    for i in range(a):\n",
    "        if(tp1[i] == tp2[i]):\n",
    "            count +=1    \n",
    "    return count == a"
   ]
  },
  {
   "cell_type": "code",
   "execution_count": 6,
   "metadata": {},
   "outputs": [
    {
     "data": {
      "text/plain": [
       "2"
      ]
     },
     "execution_count": 6,
     "metadata": {},
     "output_type": "execute_result"
    }
   ],
   "source": [
    "a = max(1,2)\n",
    "a"
   ]
  },
  {
   "cell_type": "code",
   "execution_count": 7,
   "metadata": {},
   "outputs": [
    {
     "name": "stdout",
     "output_type": "stream",
     "text": [
      "[(0, 1), (0, 2), (1, 0)]\n"
     ]
    }
   ],
   "source": [
    "p = TBSBProblem((1, 2, 0), (0, 0, 1), 1, 2, 2)\n",
    "print(p.actions(p.initial))"
   ]
  },
  {
   "cell_type": "code",
   "execution_count": 8,
   "metadata": {},
   "outputs": [
    {
     "name": "stdout",
     "output_type": "stream",
     "text": [
      "(1, 0, 1)\n"
     ]
    }
   ],
   "source": [
    "print(p.result(p.initial, (0, 2)))"
   ]
  },
  {
   "cell_type": "code",
   "execution_count": 9,
   "metadata": {},
   "outputs": [
    {
     "name": "stdout",
     "output_type": "stream",
     "text": [
      "[]\n"
     ]
    }
   ],
   "source": [
    "p = TBSBProblem((1, 2, 1), (0, 0, 1), 1, 2, 2)\n",
    "print(p.actions(p.initial))"
   ]
  },
  {
   "cell_type": "code",
   "execution_count": 10,
   "metadata": {},
   "outputs": [
    {
     "name": "stdout",
     "output_type": "stream",
     "text": [
      "[(0, 1), (0, 2), (1, 0), (1, 1), (1, 2)]\n",
      "(0, 0, 1)\n",
      "True\n"
     ]
    }
   ],
   "source": [
    "p = TBSBProblem((1, 2, 0), (0, 0, 1), 1, 2, 6)\n",
    "print(p.actions(p.initial))\n",
    "print(p.result(p.initial, (1, 2)))\n",
    "print(p.is_goal(p.result(p.initial, (1, 2))))"
   ]
  },
  {
   "cell_type": "code",
   "execution_count": 11,
   "metadata": {},
   "outputs": [
    {
     "data": {
      "text/plain": [
       "[(0, 1), (0, 2)]"
      ]
     },
     "execution_count": 11,
     "metadata": {},
     "output_type": "execute_result"
    }
   ],
   "source": [
    "cases = [[(1, 2, 0), (0, 0, 1), 1, 2, 2], [(1, 2, 1), (0, 0, 1), 1, 2, 2], [(1, 2, 0), (0, 0, 1), 1, 2, 6], [(2, 0, 1), (1, 1, 0), 2, 2, 2], [(2, 2, 0), (0, 0, 1), 2, 2, 2], [(4, 4, 0), (0, 0, 1), 4, 4, 4]]\n",
    "exp_actions = [[(0, 1), (0, 2), (1, 0)], [], [(0, 1), (0, 2), (1, 0), (1, 1), (1, 2)], [(0, 1), (0, 2)], [(0, 1), (0, 2), (1, 0)], [(0, 1), (0, 2), (0, 3), (0, 4), (1, 0), (1, 1), (1, 2), (2, 0)]]\n",
    "p = TBSBProblem((2, 0, 1), (1, 1, 0), 2, 2, 2)\n",
    "sorted(p.actions(p.initial)) \n",
    "# [(0, 1), (0, 2)]"
   ]
  },
  {
   "cell_type": "code",
   "execution_count": 12,
   "metadata": {},
   "outputs": [
    {
     "name": "stdout",
     "output_type": "stream",
     "text": [
      "(2, 0, 1) (1, 1, 0) 2 2 2\n"
     ]
    }
   ],
   "source": [
    "print(*cases[3])"
   ]
  },
  {
   "cell_type": "markdown",
   "metadata": {
    "id": "oxcVFdkNCtnI"
   },
   "source": [
    "## 2. Defina una función que resuelva el problema general\n",
    "\n",
    "Escriba una función que resuelva el problema de los Tallbots y Smallbots para una entrada igual del punto anterior. \n",
    "\n",
    "**Salida**\n",
    "Debe retornar la longitud del camino más corto y la secuencia de pasos a seguir. Si hay varios soluciones retorne cualquiera y si no hay solución retorne -1.\n",
    "\n",
    "**Ejemplos**\n",
    "\n",
    "```python\n",
    ">> print(solve((1, 2, 1), (0, 0, 1), 1, 2, 2))\n",
    ">> -1\n",
    ">> print(solve((1, 2, 0), (0, 0, 1), 1, 2, 2))\n",
    ">> (5, [(0, 2), (0, 1), (1, 0), (0, 1), (0, 2)])\n",
    ">> print(solve((2, 0, 1), (1, 1, 0), 2, 2, 2))\n",
    ">> (5, [(0, 1), (1, 0), (0, 1), (0, 2), (0, 1)])\n",
    ">> print(solve((2, 2, 0), (0, 0, 1), 2, 2, 2))\n",
    ">> (9, [(0, 2), (0, 1), (1, 0), (0, 1), (0, 2), (0, 1), (1, 0), (0, 1), (0, 2)])\n",
    "```\n",
    "**Explicación:**\n",
    "En el primer caso el bote empieza en la derecha y los bots en la izquierda, por lo que no pueden realizar ningún movimiento."
   ]
  },
  {
   "cell_type": "code",
   "execution_count": 19,
   "metadata": {},
   "outputs": [],
   "source": [
    "def breadth_first_search(problem):\n",
    "    \"Search shallowest nodes in the search tree first.\"\n",
    "    node = Node(problem.initial)\n",
    "    if problem.is_goal(problem.initial):\n",
    "        return node\n",
    "    frontier = FIFOQueue([node])\n",
    "    reached = {problem.initial}\n",
    "    while frontier:\n",
    "        node = frontier.pop()\n",
    "        for child in expand(problem, node):\n",
    "            s = child.state\n",
    "            if problem.is_goal(s):\n",
    "                return child\n",
    "            if s not in reached:\n",
    "                reached.add(s)\n",
    "                frontier.appendleft(child)\n",
    "    return failure"
   ]
  },
  {
   "cell_type": "code",
   "execution_count": 14,
   "metadata": {
    "id": "KJCNxLObCoBa"
   },
   "outputs": [],
   "source": [
    "def solve(initial, goal, n, m, c):\n",
    "    '''\n",
    "    initial: tupla representando el estado inicial de la forma (tb, sb, side). \n",
    "            tb es el número de Tallbots en el lado izquierdo, sb el número \n",
    "            de Smallbots en el lado izquierdo y side el lado en que se encuentra \n",
    "            el bote en el estado correspondiente, 0 significa que esta en \n",
    "            la izquierda y 1 en la derecha.\n",
    "    goal: tupla representando el estado objetivo, con la misma convención de\n",
    "    initial.\n",
    "    n: número total de Tallbots\n",
    "    m: número total de Smallbots\n",
    "    c: capacidad del bote\n",
    "\n",
    "    Returns: tupla (x, [...]), donde x es el tamaño de la solucion más corta y [...] es la\n",
    "    lista de acciones para solucionar el problema en x pasos. -1 si no existe solución.\n",
    "    '''\n",
    "    t,s, x = initial\n",
    "    tr, sr = n - t, m - s # Right\n",
    "    if((x==1) and (tr == 0 and sr == 0)):\n",
    "            return -1\n",
    "    problem = TBSBProblem(initial, goal, n, m, c)    \n",
    "    node = breadth_first_search(problem)\n",
    "    return (len(path_actions(node)), path_actions(node))"
   ]
  },
  {
   "cell_type": "code",
   "execution_count": 15,
   "metadata": {
    "id": "ALQxMKvX2XUm"
   },
   "outputs": [
    {
     "name": "stdout",
     "output_type": "stream",
     "text": [
      "[]\n"
     ]
    }
   ],
   "source": [
    "print(solve((1, 2, 1), (0, 0, 1), 1, 2, 2))"
   ]
  },
  {
   "cell_type": "code",
   "execution_count": 16,
   "metadata": {},
   "outputs": [
    {
     "name": "stdout",
     "output_type": "stream",
     "text": [
      "(5, [(0, 2), (0, 1), (1, 0), (0, 1), (0, 2)])\n"
     ]
    }
   ],
   "source": [
    "print(solve((1, 2, 0), (0, 0, 1), 1, 2, 2))"
   ]
  },
  {
   "cell_type": "code",
   "execution_count": 20,
   "metadata": {},
   "outputs": [
    {
     "ename": "AttributeError",
     "evalue": "'tuple' object has no attribute 'parent'",
     "output_type": "error",
     "traceback": [
      "\u001b[0;31m---------------------------------------------------------------------------\u001b[0m",
      "\u001b[0;31mAttributeError\u001b[0m                            Traceback (most recent call last)",
      "\u001b[0;32m<ipython-input-20-082916cb3389>\u001b[0m in \u001b[0;36m<module>\u001b[0;34m\u001b[0m\n\u001b[0;32m----> 1\u001b[0;31m \u001b[0mprint\u001b[0m\u001b[0;34m(\u001b[0m\u001b[0msolve\u001b[0m\u001b[0;34m(\u001b[0m\u001b[0;34m(\u001b[0m\u001b[0;36m2\u001b[0m\u001b[0;34m,\u001b[0m \u001b[0;36m0\u001b[0m\u001b[0;34m,\u001b[0m \u001b[0;36m1\u001b[0m\u001b[0;34m)\u001b[0m\u001b[0;34m,\u001b[0m \u001b[0;34m(\u001b[0m\u001b[0;36m1\u001b[0m\u001b[0;34m,\u001b[0m \u001b[0;36m1\u001b[0m\u001b[0;34m,\u001b[0m \u001b[0;36m0\u001b[0m\u001b[0;34m)\u001b[0m\u001b[0;34m,\u001b[0m \u001b[0;36m2\u001b[0m\u001b[0;34m,\u001b[0m \u001b[0;36m2\u001b[0m\u001b[0;34m,\u001b[0m \u001b[0;36m2\u001b[0m\u001b[0;34m)\u001b[0m\u001b[0;34m)\u001b[0m\u001b[0;34m\u001b[0m\u001b[0;34m\u001b[0m\u001b[0m\n\u001b[0m\u001b[1;32m      2\u001b[0m \u001b[0;31m# (5, [[(0, 1), (1, 0), (0, 1), (0, 2), (0, 1)]])\u001b[0m\u001b[0;34m\u001b[0m\u001b[0;34m\u001b[0m\u001b[0;34m\u001b[0m\u001b[0m\n",
      "\u001b[0;32m<ipython-input-14-b324848f5131>\u001b[0m in \u001b[0;36msolve\u001b[0;34m(initial, goal, n, m, c)\u001b[0m\n\u001b[1;32m     21\u001b[0m     \u001b[0mproblem\u001b[0m \u001b[0;34m=\u001b[0m \u001b[0mTBSBProblem\u001b[0m\u001b[0;34m(\u001b[0m\u001b[0minitial\u001b[0m\u001b[0;34m,\u001b[0m \u001b[0mgoal\u001b[0m\u001b[0;34m,\u001b[0m \u001b[0mn\u001b[0m\u001b[0;34m,\u001b[0m \u001b[0mm\u001b[0m\u001b[0;34m,\u001b[0m \u001b[0mc\u001b[0m\u001b[0;34m)\u001b[0m\u001b[0;34m\u001b[0m\u001b[0;34m\u001b[0m\u001b[0m\n\u001b[1;32m     22\u001b[0m     \u001b[0mnode\u001b[0m \u001b[0;34m=\u001b[0m \u001b[0mbreadth_first_search\u001b[0m\u001b[0;34m(\u001b[0m\u001b[0mproblem\u001b[0m\u001b[0;34m)\u001b[0m\u001b[0;34m\u001b[0m\u001b[0;34m\u001b[0m\u001b[0m\n\u001b[0;32m---> 23\u001b[0;31m     \u001b[0;32mreturn\u001b[0m \u001b[0;34m(\u001b[0m\u001b[0mlen\u001b[0m\u001b[0;34m(\u001b[0m\u001b[0mpath_actions\u001b[0m\u001b[0;34m(\u001b[0m\u001b[0mnode\u001b[0m\u001b[0;34m)\u001b[0m\u001b[0;34m)\u001b[0m\u001b[0;34m,\u001b[0m \u001b[0mpath_actions\u001b[0m\u001b[0;34m(\u001b[0m\u001b[0mnode\u001b[0m\u001b[0;34m)\u001b[0m\u001b[0;34m)\u001b[0m\u001b[0;34m\u001b[0m\u001b[0;34m\u001b[0m\u001b[0m\n\u001b[0m",
      "\u001b[0;32m<ipython-input-3-58d5d38f8af1>\u001b[0m in \u001b[0;36mpath_actions\u001b[0;34m(node)\u001b[0m\n\u001b[1;32m     24\u001b[0m \u001b[0;32mdef\u001b[0m \u001b[0mpath_actions\u001b[0m\u001b[0;34m(\u001b[0m\u001b[0mnode\u001b[0m\u001b[0;34m)\u001b[0m\u001b[0;34m:\u001b[0m\u001b[0;34m\u001b[0m\u001b[0;34m\u001b[0m\u001b[0m\n\u001b[1;32m     25\u001b[0m     \u001b[0;34m\"The sequence of actions to get to this node.\"\u001b[0m\u001b[0;34m\u001b[0m\u001b[0;34m\u001b[0m\u001b[0m\n\u001b[0;32m---> 26\u001b[0;31m     \u001b[0;32mif\u001b[0m \u001b[0mnode\u001b[0m\u001b[0;34m.\u001b[0m\u001b[0mparent\u001b[0m \u001b[0;32mis\u001b[0m \u001b[0;32mNone\u001b[0m\u001b[0;34m:\u001b[0m\u001b[0;34m\u001b[0m\u001b[0;34m\u001b[0m\u001b[0m\n\u001b[0m\u001b[1;32m     27\u001b[0m         \u001b[0;32mreturn\u001b[0m \u001b[0;34m[\u001b[0m\u001b[0;34m]\u001b[0m\u001b[0;34m\u001b[0m\u001b[0;34m\u001b[0m\u001b[0m\n\u001b[1;32m     28\u001b[0m     \u001b[0;32mreturn\u001b[0m \u001b[0mpath_actions\u001b[0m\u001b[0;34m(\u001b[0m\u001b[0mnode\u001b[0m\u001b[0;34m.\u001b[0m\u001b[0mparent\u001b[0m\u001b[0;34m)\u001b[0m \u001b[0;34m+\u001b[0m \u001b[0;34m[\u001b[0m\u001b[0mnode\u001b[0m\u001b[0;34m.\u001b[0m\u001b[0maction\u001b[0m\u001b[0;34m]\u001b[0m\u001b[0;34m\u001b[0m\u001b[0;34m\u001b[0m\u001b[0m\n",
      "\u001b[0;31mAttributeError\u001b[0m: 'tuple' object has no attribute 'parent'"
     ]
    }
   ],
   "source": [
    "print(solve((2, 0, 1), (1, 1, 0), 2, 2, 2))\n",
    "# (5, [[(0, 1), (1, 0), (0, 1), (0, 2), (0, 1)]])"
   ]
  },
  {
   "cell_type": "markdown",
   "metadata": {
    "id": "bgbUd_mbxPjh"
   },
   "source": [
    "## 3. Defina una función que retorne todas las soluciones de longitud minima posibles al problema\n",
    "\n",
    "**Entrada**\n",
    "Igual que el punto anterior\n",
    "\n",
    "**Salida**\n",
    "Su programa debe retornar el tamaño de las soluciones y una lista de listas (o tuplas) que representen las soluciones, si no existe ninguna solución retornar -1\n",
    "\n",
    "**Ejemplos**\n",
    "\n",
    "```python\n",
    ">> print(solve_all((2, 2, 0), (0, 0, 1), 2, 2, 2))\n",
    ">> (9, [[(0, 2), (0, 1), (1, 0), (0, 1), (0, 2), (0, 1), (1, 0), (0, 1), (0, 2)]])\n",
    "```\n",
    "------------\n",
    "```python\n",
    ">> print(solve_all((4, 4, 0), (0, 0, 1), 4, 4, 4))\n",
    "# Esta tiene 52 soluciones diferente. Se deben retornar todas.\n",
    ">> (7,\n",
    " [[(0, 3), (0, 1), (1, 2), (0, 1), (2, 0), (0, 1), (1, 2)],\n",
    "  [(0, 3), (0, 1), (2, 0), (0, 1), (2, 0), (0, 1), (0, 4)],\n",
    "  [(0, 4), (0, 1), (2, 0), (0, 1), (1, 2), (0, 1), (1, 1)],\n",
    "  [(0, 4), (0, 1), (2, 0), (0, 1), (1, 2), (1, 0), (2, 0)],\n",
    "  [(0, 4), (0, 1), (2, 0), (0, 1), (2, 0), (0, 1), (0, 3)]\n",
    "  ...\n",
    "  ...\n",
    "  ...])\n",
    "```"
   ]
  },
  {
   "cell_type": "code",
   "execution_count": 18,
   "metadata": {
    "id": "fJTb_Q8fxOew"
   },
   "outputs": [],
   "source": [
    "def solve_all(initial, goal, n, m, c):\n",
    "  '''\n",
    "  initial: tupla representando el estado inicial de la forma (tb, sb, side). \n",
    "            tb es el número de Tallbots en el lado izquierdo, sb el número \n",
    "            de Smallbots en el lado izquierdo y side el lado en que se encuentra \n",
    "            el bote en el estado correspondiente, 0 significa que esta en \n",
    "            la izquierda y 1 en la derecha.\n",
    "  goal: tupla representando el estado objetivo, con la misma convención de\n",
    "  initial.\n",
    "  n: número total de Tallbots\n",
    "  m: número total de Smallbots\n",
    "  c: capacidad del bote\n",
    "\n",
    "  Returns: tupla (x, [[...], ...]) donde x es el tamaño de la solución más corta \n",
    "  y [[...], ...] es una lista de listas con todas las soluciones al problema de\n",
    "   longitud x. Si no existe solución retornar -1.\n",
    "  '''\n",
    "  pass"
   ]
  }
 ],
 "metadata": {
  "colab": {
   "collapsed_sections": [],
   "name": "Taller 1:_Tallbots_y_Smallbots_(estudiantes).ipynb",
   "provenance": []
  },
  "kernelspec": {
   "display_name": "Python 3",
   "language": "python",
   "name": "python3"
  },
  "language_info": {
   "codemirror_mode": {
    "name": "ipython",
    "version": 3
   },
   "file_extension": ".py",
   "mimetype": "text/x-python",
   "name": "python",
   "nbconvert_exporter": "python",
   "pygments_lexer": "ipython3",
   "version": "3.7.3"
  }
 },
 "nbformat": 4,
 "nbformat_minor": 1
}
