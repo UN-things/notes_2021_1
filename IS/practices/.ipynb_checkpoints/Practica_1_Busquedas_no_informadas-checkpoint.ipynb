{
 "cells": [
  {
   "cell_type": "markdown",
   "metadata": {
    "id": "DShpybMJZxDR"
   },
   "source": [
    "# Práctica 1: Búsquedas no informadas\n",
    "### [Introducción a los sistemas inteligentes 2021-1](https://fagonzalezo.github.io/iis-2021-1/)\n",
    "\n",
    "-----\n",
    "\n",
    "\n",
    "## 1. El problema de las jarras de agua\n",
    "\n",
    "Usted tiene 2 jarras, una con capacidad de 3 litros y otra con capacidad de 5 litros. Además, se\n",
    "cuenta con un grifo. Las jarras se pueden llenar totalmente, vaciar en el piso y vaciar parcialmente el\n",
    "contenido de una jarra en la otra. Las jarras no tienen ninguna clase de marca. El objetivo es medir\n",
    "exactamente un litro de agua.\n",
    "\n",
    "### 1.1 \n",
    "Modele este problema creando una clase que herede de siguiente clase abstracta:\n"
   ]
  },
  {
   "cell_type": "code",
   "execution_count": 18,
   "metadata": {},
   "outputs": [],
   "source": [
    "%matplotlib inline\n",
    "import matplotlib.pyplot as plt\n",
    "import random\n",
    "import heapq\n",
    "import math\n",
    "import sys\n",
    "from collections import defaultdict, deque, Counter\n",
    "from itertools import combinations"
   ]
  },
  {
   "cell_type": "code",
   "execution_count": 17,
   "metadata": {
    "id": "npjwhbOrZxDS"
   },
   "outputs": [],
   "source": [
    "class Problem(object):\n",
    "    \"\"\"The abstract class for a formal problem. A new domain subclasses this,\n",
    "    overriding `actions` and `results`, and perhaps other methods.\n",
    "    The default heuristic is 0 and the default action cost is 1 for all states.\n",
    "    When yiou create an instance of a subclass, specify `initial`, and `goal` states \n",
    "    (or give an `is_goal` method) and perhaps other keyword args for the subclass.\"\"\"\n",
    "\n",
    "    def __init__(self, initial=None, goal=None, **kwds): \n",
    "        self.__dict__.update(initial=initial, goal=goal, **kwds) \n",
    "        \n",
    "    def actions(self, state):        \n",
    "        raise NotImplementedError\n",
    "        \n",
    "    def result(self, state, action): \n",
    "        raise NotImplementedError\n",
    "        \n",
    "    def is_goal(self, state):        \n",
    "        return state == self.goal\n",
    "    \n",
    "    def action_cost(self, s, a, s1): \n",
    "        return 1\n",
    "    \n",
    "    def h(self, node):               \n",
    "        return 0\n",
    "    \n",
    "    def __str__(self):\n",
    "        return '{}({!r}, {!r})'.format(\n",
    "            type(self).__name__, self.initial, self.goal)"
   ]
  },
  {
   "cell_type": "code",
   "execution_count": 20,
   "metadata": {},
   "outputs": [],
   "source": [
    "class Node:\n",
    "    \"A Node in a search tree.\"\n",
    "    def __init__(self, state, parent=None, action=None, path_cost=0):\n",
    "        self.__dict__.update(state=state, parent=parent, action=action, path_cost=path_cost)\n",
    "\n",
    "    def __repr__(self): return '<{}>'.format(self.state)\n",
    "    def __len__(self): return 0 if self.parent is None else (1 + len(self.parent))\n",
    "    def __lt__(self, other): return self.path_cost < other.path_cost\n",
    "    \n",
    "    \n",
    "failure = Node('failure', path_cost=math.inf) # Indicates an algorithm couldn't find a solution.\n",
    "cutoff  = Node('cutoff',  path_cost=math.inf) # Indicates iterative deepening search was cut off.\n",
    "    \n",
    "    \n",
    "def expand(problem, node):\n",
    "    \"Expand a node, generating the children nodes.\"\n",
    "    s = node.state\n",
    "    for action in problem.actions(s):\n",
    "        s1 = problem.result(s, action)\n",
    "        cost = node.path_cost + problem.action_cost(s, action, s1)\n",
    "        yield Node(s1, node, action, cost)\n",
    "        \n",
    "\n",
    "def path_actions(node):\n",
    "    \"The sequence of actions to get to this node.\"\n",
    "    if node.parent is None:\n",
    "        return []  \n",
    "    return path_actions(node.parent) + [node.action]\n",
    "\n",
    "\n",
    "def path_states(node):\n",
    "    \"The sequence of states to get to this node.\"\n",
    "    if node in (cutoff, failure, None): \n",
    "        return []\n",
    "    return path_states(node.parent) + [node.state]\n"
   ]
  },
  {
   "cell_type": "code",
   "execution_count": null,
   "metadata": {},
   "outputs": [],
   "source": [
    "FIFOQueue = deque\n",
    "\n",
    "LIFOQueue = list\n",
    "\n",
    "class PriorityQueue:\n",
    "    \"\"\"A queue in which the item with minimum f(item) is always popped first.\"\"\"\n",
    "\n",
    "    def __init__(self, items=(), key=lambda x: x): \n",
    "        self.key = key\n",
    "        self.items = [] # a heap of (score, item) pairs\n",
    "        for item in items:\n",
    "            self.add(item)\n",
    "         \n",
    "    def add(self, item):\n",
    "        \"\"\"Add item to the queuez.\"\"\"\n",
    "        pair = (self.key(item), item)\n",
    "        heapq.heappush(self.items, pair)\n",
    "\n",
    "    def pop(self):\n",
    "        \"\"\"Pop and return the item with min f(item) value.\"\"\"\n",
    "        return heapq.heappop(self.items)[1]\n",
    "    \n",
    "    def top(self): return self.items[0][1]\n",
    "\n",
    "    def __len__(self): return len(self.items)"
   ]
  },
  {
   "cell_type": "code",
   "execution_count": 15,
   "metadata": {},
   "outputs": [],
   "source": [
    "def breadth_first_search(problem):\n",
    "    \"Search shallowest nodes in the search tree first.\"\n",
    "    node = Node(problem.initial)\n",
    "    if problem.is_goal(problem.initial):\n",
    "        return node\n",
    "    frontier = FIFOQueue([node])\n",
    "    reached = {problem.initial}\n",
    "    while frontier:\n",
    "        node = frontier.pop()\n",
    "        for child in expand(problem, node):\n",
    "            s = child.state\n",
    "            if problem.is_goal(s):\n",
    "                return child\n",
    "            if s not in reached:\n",
    "                reached.add(s)\n",
    "                frontier.appendleft(child)\n",
    "    return failure"
   ]
  },
  {
   "cell_type": "code",
   "execution_count": 7,
   "metadata": {},
   "outputs": [],
   "source": [
    "class PourProblem(Problem):\n",
    "    \"\"\"Problem about pouring water between jugs to achieve some water level.\n",
    "    Each state is a tuples of water levels. In the initialization, also provide a tuple of \n",
    "    jug sizes, e.g. PourProblem(initial=(0, 0), goal=4, sizes=(5, 3)), \n",
    "    which means two jugs of sizes 5 and 3, initially both empty, with the goal\n",
    "    of getting a level of 4 in either jug.\"\"\"\n",
    "    \n",
    "    def _init_(self, initial=None, goal=None, sizes=(3, 5)): \n",
    "        #self._dict_.update(initial=initial, goal=goal) \n",
    "        self.initial = initial\n",
    "        self.goal = goal\n",
    "        self.sizes = sizes\n",
    "    \n",
    "    def actions(self, state):\n",
    "        \"\"\"The actions executable in this state.\"\"\"\n",
    "        jugs = range(len(state))\n",
    "        return ([('Fill', i)    for i in jugs if state[i] < self.sizes[i]] +\n",
    "                [('Dump', i)    for i in jugs if state[i] > 0] +\n",
    "                [('Pour', i, j) for i in jugs if state[i] > 0 for j in jugs if i != j])\n",
    "\n",
    "    def result(self, state, action):\n",
    "        \"\"\"The state that results from executing this action in this state.\"\"\"\n",
    "        result = list(state)\n",
    "        act, i, *_ = action\n",
    "        if act == 'Fill':   # Fill i to capacity\n",
    "            result[i] = self.sizes[i]\n",
    "        elif act == 'Dump': # Empty i\n",
    "            result[i] = 0\n",
    "        elif act == 'Pour': # Pour from i into j\n",
    "            j = action[2]\n",
    "            amount = min(state[i], self.sizes[j] - state[j])\n",
    "            result[i] -= amount\n",
    "            result[j] += amount\n",
    "        return tuple(result)\n",
    "\n",
    "    def is_goal(self, state):\n",
    "        \"\"\"True if the goal level is in any one of the jugs.\"\"\"\n",
    "        return self.goal in state\n"
   ]
  },
  {
   "cell_type": "code",
   "execution_count": 12,
   "metadata": {},
   "outputs": [
    {
     "data": {
      "text/plain": [
       "[('Fill', 0), ('Fill', 1), ('Dump', 1), ('Pour', 1, 0)]"
      ]
     },
     "execution_count": 12,
     "metadata": {},
     "output_type": "execute_result"
    }
   ],
   "source": [
    "problem = PourProblem(initial=(0, 0), goal=4, sizes=(3,5))\n",
    "problem.actions((0, 4))"
   ]
  },
  {
   "cell_type": "code",
   "execution_count": 13,
   "metadata": {},
   "outputs": [
    {
     "data": {
      "text/plain": [
       "(3, 1)"
      ]
     },
     "execution_count": 13,
     "metadata": {},
     "output_type": "execute_result"
    }
   ],
   "source": [
    "problem.result((0,4), ('Pour', 1, 0))"
   ]
  },
  {
   "cell_type": "markdown",
   "metadata": {
    "id": "l-q74S5iZxDU"
   },
   "source": [
    "**Nota:** Utilice como guía este [notebook](https://nbviewer.jupyter.org/github/aimacode/aima-python/blob/master/search4e.ipynb) del AIMA Github Repository donde se implementa el problema para un número arbitrario de jarras. "
   ]
  },
  {
   "cell_type": "markdown",
   "metadata": {
    "id": "nc3lGeVMZxDV"
   },
   "source": [
    "### 1.2 \n",
    "Encuentre una solución utilizando búsqueda en amplitud. Utilice la función `breadth_first_search` en el [notebook](https://github.com/aimacode/aima-python/blob/master/search4e.ipynb) de AIMA. Su código debe imprimir cada uno de los pasos de la solución. \n",
    "\n",
    "**Nota**: la función `breadth_first_search` devuelve un nodo del árbol de búsqueda. Busque la funciones en el notebook que le permiten obtener la secuencia de acciones de la solución a partir del nodo resultante. "
   ]
  },
  {
   "cell_type": "markdown",
   "metadata": {
    "id": "QcejhH55ZxDV"
   },
   "source": [
    "### 1.3\n",
    "Encuentre una solución utilizando búsqueda en profundidad. Utilice la función `depth_first_recursive_search` en el  [notebook](https://github.com/aimacode/aima-python/blob/master/search4e.ipynb) de AIMA. Su código debe imprimir cada uno de los pasos de la solución. \n",
    "\n",
    "¿La solución difiere de la solución producida por BFS? Explique."
   ]
  },
  {
   "cell_type": "markdown",
   "metadata": {
    "id": "XvByI78cZxDW"
   },
   "source": [
    "## 2. El problema de los misioneros y los caníbales (MC).\n",
    "\n",
    "Tres misioneros y tres caníbales deben cruzar un río usando un bote que puede llevar como máximo a dos personas, bajo la restricción de que, para ambos lados del río, si hay misioneros presentes en un lado, no pueden ser superados en número por caníbales (si lo fueran, los caníbales se comerían a los misioneros). El barco no puede cruzar el río por sí mismo sin gente a bordo.\n",
    "\n",
    "Su objetivo es modelar este problema como un problema de búsqueda y resolverlo usando diferentes algoritmos de búsqueda.\n",
    "\n",
    "### 2.1 (Cree una clase para modelar el problema MC\n",
    "\n",
    "Un estado del problema puede representarse de diferentes formas. La sugerencia es usar una tupla de valores indicando el número de misioneros y caníbales en cada lado del rio, así como la posición del bote:\n",
    "\n",
    "```python\n",
    "('I', 3, 2, 0, 1)\n",
    "```\n",
    "\n",
    "Representa un estado en el cual el bote se encuentra en el lado izquierdo, hay 3 misioneros en el lado izquierdo, 2 caníbales en el lado izquierdo, cero misioneros en el lado derecho y 1 canibal en el lado derecho.\n",
    "\n",
    "Una acción puede representarse como una pareja de valores indicando cuantos misioneros y caníbales se van a mover. Por ejemplo el siguiente vector\n",
    "\n",
    "```python\n",
    "(0, 1)\n",
    "```\n",
    "\n",
    "Indica que se moverán cero misioneros y un canibal. Note que no es necesario representar el bote, pues este siempre se mueve.\n",
    "\n",
    "Asuma que al principio todos los actores están a la izquierda y al final todos deben estar a la derecha.\n",
    "\n"
   ]
  },
  {
   "cell_type": "markdown",
   "metadata": {
    "id": "r1u5GMoqZxDW"
   },
   "source": [
    "### 2.2   Use un método de búsqueda para encontrar una solución óptima al problema\n",
    "\n",
    "Cree una función que calcule la secuencia de acciones que resuelva el problema así como los estados (incluidos el inicial y el final) que se  visitan al ejecutar la solución. Cuántos movimientos requiere la solución óptima?"
   ]
  },
  {
   "cell_type": "markdown",
   "metadata": {
    "id": "MJzEfS8zZxDX"
   },
   "source": [
    "### 2.3  Estados alcanzables desde el estado inicial\n",
    "\n",
    "Cree una función que calcule todos los estados alcanzables desde el estado inicial, es decir estados para los que existe una secuencia de acciones que lleva del estado inicial a ellos. ¿Son todos los estados posibles alcanzables?"
   ]
  }
 ],
 "metadata": {
  "colab": {
   "collapsed_sections": [],
   "name": "Practica 1 Busquedas no informadas.ipynb",
   "provenance": []
  },
  "kernelspec": {
   "display_name": "Python 3",
   "language": "python",
   "name": "python3"
  },
  "language_info": {
   "codemirror_mode": {
    "name": "ipython",
    "version": 3
   },
   "file_extension": ".py",
   "mimetype": "text/x-python",
   "name": "python",
   "nbconvert_exporter": "python",
   "pygments_lexer": "ipython3",
   "version": "3.7.3"
  }
 },
 "nbformat": 4,
 "nbformat_minor": 1
}
